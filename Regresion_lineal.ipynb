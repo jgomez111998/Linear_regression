{
 "cells": [
  {
   "cell_type": "markdown",
   "id": "f4b1e8f7",
   "metadata": {},
   "source": [
    "# Regresión Lineal Simple "
   ]
  },
  {
   "cell_type": "markdown",
   "id": "b10dc129",
   "metadata": {},
   "source": [
    "El objetivo ahora consiste en tratar de predecir una variable continua a partir de otra mediante una recta. Los supuestos del modelo son los siguientes\n",
    "- Linealidad: Que la relación entre las variables sea lineal.\n",
    "- Independencia: Que los errores en la medición de las variables explicativas sean\n",
    " independientes entre sí.\n",
    "- Homocedasticidad: Que los errores tengan varianza constante.\n",
    "- Normalidad: Que las variables sigan la Ley Normal.\n",
    "- No colinealidad: Que las variables independientes no estén correlacionadas entre ellas (caso multivariante)"
   ]
  },
  {
   "cell_type": "code",
   "execution_count": 1,
   "id": "71cff8eb",
   "metadata": {},
   "outputs": [],
   "source": [
    "import pandas as pd\n",
    "import numpy as np\n",
    "from sklearn import linear_model\n",
    "import matplotlib.pyplot as plt"
   ]
  },
  {
   "cell_type": "code",
   "execution_count": 2,
   "id": "5d0fc518",
   "metadata": {},
   "outputs": [
    {
     "data": {
      "text/html": [
       "<div>\n",
       "<style scoped>\n",
       "    .dataframe tbody tr th:only-of-type {\n",
       "        vertical-align: middle;\n",
       "    }\n",
       "\n",
       "    .dataframe tbody tr th {\n",
       "        vertical-align: top;\n",
       "    }\n",
       "\n",
       "    .dataframe thead th {\n",
       "        text-align: right;\n",
       "    }\n",
       "</style>\n",
       "<table border=\"1\" class=\"dataframe\">\n",
       "  <thead>\n",
       "    <tr style=\"text-align: right;\">\n",
       "      <th></th>\n",
       "      <th>area</th>\n",
       "      <th>price</th>\n",
       "    </tr>\n",
       "  </thead>\n",
       "  <tbody>\n",
       "    <tr>\n",
       "      <th>0</th>\n",
       "      <td>2600</td>\n",
       "      <td>550000</td>\n",
       "    </tr>\n",
       "    <tr>\n",
       "      <th>1</th>\n",
       "      <td>3000</td>\n",
       "      <td>565000</td>\n",
       "    </tr>\n",
       "    <tr>\n",
       "      <th>2</th>\n",
       "      <td>3200</td>\n",
       "      <td>610000</td>\n",
       "    </tr>\n",
       "    <tr>\n",
       "      <th>3</th>\n",
       "      <td>3600</td>\n",
       "      <td>680000</td>\n",
       "    </tr>\n",
       "    <tr>\n",
       "      <th>4</th>\n",
       "      <td>4000</td>\n",
       "      <td>725000</td>\n",
       "    </tr>\n",
       "  </tbody>\n",
       "</table>\n",
       "</div>"
      ],
      "text/plain": [
       "   area   price\n",
       "0  2600  550000\n",
       "1  3000  565000\n",
       "2  3200  610000\n",
       "3  3600  680000\n",
       "4  4000  725000"
      ]
     },
     "execution_count": 2,
     "metadata": {},
     "output_type": "execute_result"
    }
   ],
   "source": [
    "df = pd.read_csv('price.csv',sep=';')\n",
    "df #leemos la base de datos de precio de viviendas en función\n",
    "#del área que esta abarca"
   ]
  },
  {
   "cell_type": "code",
   "execution_count": 3,
   "id": "2fa5391b",
   "metadata": {},
   "outputs": [
    {
     "data": {
      "text/plain": [
       "<matplotlib.collections.PathCollection at 0x2b12d525820>"
      ]
     },
     "execution_count": 3,
     "metadata": {},
     "output_type": "execute_result"
    },
    {
     "data": {
      "image/png": "[encoded data removed]",
      "text/plain": [
       "<Figure size 432x288 with 1 Axes>"
      ]
     },
     "metadata": {
      "needs_background": "light"
     },
     "output_type": "display_data"
    }
   ],
   "source": [
    "plt.xlabel('area')\n",
    "plt.ylabel('price')\n",
    "plt.scatter(df.area,df.price,color='blue',marker='.')"
   ]
  },
  {
   "cell_type": "markdown",
   "id": "278e1428",
   "metadata": {},
   "source": [
    "Vemos como parece que los precios podrían ser explicados correctamente por el area de la vivienda. Veamos su correlación"
   ]
  },
  {
   "cell_type": "code",
   "execution_count": 4,
   "id": "d7d5ee92",
   "metadata": {},
   "outputs": [
    {
     "data": {
      "text/html": [
       "<div>\n",
       "<style scoped>\n",
       "    .dataframe tbody tr th:only-of-type {\n",
       "        vertical-align: middle;\n",
       "    }\n",
       "\n",
       "    .dataframe tbody tr th {\n",
       "        vertical-align: top;\n",
       "    }\n",
       "\n",
       "    .dataframe thead th {\n",
       "        text-align: right;\n",
       "    }\n",
       "</style>\n",
       "<table border=\"1\" class=\"dataframe\">\n",
       "  <thead>\n",
       "    <tr style=\"text-align: right;\">\n",
       "      <th></th>\n",
       "      <th>area</th>\n",
       "      <th>price</th>\n",
       "    </tr>\n",
       "  </thead>\n",
       "  <tbody>\n",
       "    <tr>\n",
       "      <th>area</th>\n",
       "      <td>1.000000</td>\n",
       "      <td>0.978994</td>\n",
       "    </tr>\n",
       "    <tr>\n",
       "      <th>price</th>\n",
       "      <td>0.978994</td>\n",
       "      <td>1.000000</td>\n",
       "    </tr>\n",
       "  </tbody>\n",
       "</table>\n",
       "</div>"
      ],
      "text/plain": [
       "           area     price\n",
       "area   1.000000  0.978994\n",
       "price  0.978994  1.000000"
      ]
     },
     "execution_count": 4,
     "metadata": {},
     "output_type": "execute_result"
    }
   ],
   "source": [
    "df.corr() #correlación de 0.97 muy alta"
   ]
  },
  {
   "cell_type": "code",
   "execution_count": 5,
   "id": "31963dbc",
   "metadata": {},
   "outputs": [],
   "source": [
    "var_ind= df.drop('price',axis='columns')\n",
    "var_dep=df.price"
   ]
  },
  {
   "cell_type": "code",
   "execution_count": 6,
   "id": "4475e311",
   "metadata": {},
   "outputs": [
    {
     "data": {
      "text/plain": [
       "LinearRegression()"
      ]
     },
     "execution_count": 6,
     "metadata": {},
     "output_type": "execute_result"
    }
   ],
   "source": [
    "reg = linear_model.LinearRegression()\n",
    "reg.fit(var_ind,var_dep)"
   ]
  },
  {
   "cell_type": "code",
   "execution_count": 7,
   "id": "c657a825",
   "metadata": {},
   "outputs": [
    {
     "data": {
      "text/plain": [
       "(array([135.78767123]), 180616.43835616432)"
      ]
     },
     "execution_count": 7,
     "metadata": {},
     "output_type": "execute_result"
    }
   ],
   "source": [
    "reg.coef_,reg.intercept_ #los coeficientes de la recta\n",
    "#de regresión y=Ax+B"
   ]
  },
  {
   "cell_type": "markdown",
   "id": "abcf9e99",
   "metadata": {},
   "source": [
    "Podemos crear una predicción dado un nuevo área"
   ]
  },
  {
   "cell_type": "code",
   "execution_count": 8,
   "id": "231b710a",
   "metadata": {},
   "outputs": [],
   "source": [
    "def prediccion(area):\n",
    "    return(135.78767123*area+180616.43835616432)"
   ]
  },
  {
   "cell_type": "code",
   "execution_count": 9,
   "id": "d881fc78",
   "metadata": {},
   "outputs": [
    {
     "data": {
      "text/plain": [
       "655873.2876611643"
      ]
     },
     "execution_count": 9,
     "metadata": {},
     "output_type": "execute_result"
    }
   ],
   "source": [
    "prediccion(3500)"
   ]
  },
  {
   "cell_type": "code",
   "execution_count": 10,
   "id": "a5e41945",
   "metadata": {},
   "outputs": [
    {
     "data": {
      "text/plain": [
       "array([655873.28767123])"
      ]
     },
     "execution_count": 10,
     "metadata": {},
     "output_type": "execute_result"
    }
   ],
   "source": [
    "reg.predict([[3500]]) #método con el modelo ya implementado"
   ]
  },
  {
   "cell_type": "markdown",
   "id": "77d99bd8",
   "metadata": {},
   "source": [
    "Vamos a estimar una nueva base de datos con áreas"
   ]
  },
  {
   "cell_type": "code",
   "execution_count": 11,
   "id": "add4c432",
   "metadata": {},
   "outputs": [],
   "source": [
    "data={'Area_a_estimar':[3200,3300,3400,3500,3600,3700,3800]}\n",
    "df_a_estimar = pd.DataFrame(data)"
   ]
  },
  {
   "cell_type": "code",
   "execution_count": 12,
   "id": "43b0b4b1",
   "metadata": {},
   "outputs": [
    {
     "data": {
      "text/html": [
       "<div>\n",
       "<style scoped>\n",
       "    .dataframe tbody tr th:only-of-type {\n",
       "        vertical-align: middle;\n",
       "    }\n",
       "\n",
       "    .dataframe tbody tr th {\n",
       "        vertical-align: top;\n",
       "    }\n",
       "\n",
       "    .dataframe thead th {\n",
       "        text-align: right;\n",
       "    }\n",
       "</style>\n",
       "<table border=\"1\" class=\"dataframe\">\n",
       "  <thead>\n",
       "    <tr style=\"text-align: right;\">\n",
       "      <th></th>\n",
       "      <th>Area_a_estimar</th>\n",
       "    </tr>\n",
       "  </thead>\n",
       "  <tbody>\n",
       "    <tr>\n",
       "      <th>0</th>\n",
       "      <td>3200</td>\n",
       "    </tr>\n",
       "    <tr>\n",
       "      <th>1</th>\n",
       "      <td>3300</td>\n",
       "    </tr>\n",
       "    <tr>\n",
       "      <th>2</th>\n",
       "      <td>3400</td>\n",
       "    </tr>\n",
       "    <tr>\n",
       "      <th>3</th>\n",
       "      <td>3500</td>\n",
       "    </tr>\n",
       "    <tr>\n",
       "      <th>4</th>\n",
       "      <td>3600</td>\n",
       "    </tr>\n",
       "    <tr>\n",
       "      <th>5</th>\n",
       "      <td>3700</td>\n",
       "    </tr>\n",
       "    <tr>\n",
       "      <th>6</th>\n",
       "      <td>3800</td>\n",
       "    </tr>\n",
       "  </tbody>\n",
       "</table>\n",
       "</div>"
      ],
      "text/plain": [
       "   Area_a_estimar\n",
       "0            3200\n",
       "1            3300\n",
       "2            3400\n",
       "3            3500\n",
       "4            3600\n",
       "5            3700\n",
       "6            3800"
      ]
     },
     "execution_count": 12,
     "metadata": {},
     "output_type": "execute_result"
    }
   ],
   "source": [
    "df_a_estimar"
   ]
  },
  {
   "cell_type": "code",
   "execution_count": 13,
   "id": "4335b7f1",
   "metadata": {},
   "outputs": [],
   "source": [
    "price_estimated= reg.predict(df_a_estimar)"
   ]
  },
  {
   "cell_type": "code",
   "execution_count": 14,
   "id": "db519f61",
   "metadata": {},
   "outputs": [],
   "source": [
    "df_estimaciones = df_a_estimar\n",
    "df_estimaciones['price_est']=price_estimated"
   ]
  },
  {
   "cell_type": "code",
   "execution_count": 15,
   "id": "b3ed5fa7",
   "metadata": {},
   "outputs": [
    {
     "data": {
      "text/html": [
       "<div>\n",
       "<style scoped>\n",
       "    .dataframe tbody tr th:only-of-type {\n",
       "        vertical-align: middle;\n",
       "    }\n",
       "\n",
       "    .dataframe tbody tr th {\n",
       "        vertical-align: top;\n",
       "    }\n",
       "\n",
       "    .dataframe thead th {\n",
       "        text-align: right;\n",
       "    }\n",
       "</style>\n",
       "<table border=\"1\" class=\"dataframe\">\n",
       "  <thead>\n",
       "    <tr style=\"text-align: right;\">\n",
       "      <th></th>\n",
       "      <th>Area_a_estimar</th>\n",
       "      <th>price_est</th>\n",
       "    </tr>\n",
       "  </thead>\n",
       "  <tbody>\n",
       "    <tr>\n",
       "      <th>0</th>\n",
       "      <td>3200</td>\n",
       "      <td>615136.986301</td>\n",
       "    </tr>\n",
       "    <tr>\n",
       "      <th>1</th>\n",
       "      <td>3300</td>\n",
       "      <td>628715.753425</td>\n",
       "    </tr>\n",
       "    <tr>\n",
       "      <th>2</th>\n",
       "      <td>3400</td>\n",
       "      <td>642294.520548</td>\n",
       "    </tr>\n",
       "    <tr>\n",
       "      <th>3</th>\n",
       "      <td>3500</td>\n",
       "      <td>655873.287671</td>\n",
       "    </tr>\n",
       "    <tr>\n",
       "      <th>4</th>\n",
       "      <td>3600</td>\n",
       "      <td>669452.054795</td>\n",
       "    </tr>\n",
       "    <tr>\n",
       "      <th>5</th>\n",
       "      <td>3700</td>\n",
       "      <td>683030.821918</td>\n",
       "    </tr>\n",
       "    <tr>\n",
       "      <th>6</th>\n",
       "      <td>3800</td>\n",
       "      <td>696609.589041</td>\n",
       "    </tr>\n",
       "  </tbody>\n",
       "</table>\n",
       "</div>"
      ],
      "text/plain": [
       "   Area_a_estimar      price_est\n",
       "0            3200  615136.986301\n",
       "1            3300  628715.753425\n",
       "2            3400  642294.520548\n",
       "3            3500  655873.287671\n",
       "4            3600  669452.054795\n",
       "5            3700  683030.821918\n",
       "6            3800  696609.589041"
      ]
     },
     "execution_count": 15,
     "metadata": {},
     "output_type": "execute_result"
    }
   ],
   "source": [
    "df_estimaciones"
   ]
  },
  {
   "cell_type": "code",
   "execution_count": 16,
   "id": "15910650",
   "metadata": {},
   "outputs": [],
   "source": [
    "x1=np.arange(2600,4000)\n",
    "y1=prediccion(x1)"
   ]
  },
  {
   "cell_type": "code",
   "execution_count": 17,
   "id": "9fdead1f",
   "metadata": {},
   "outputs": [
    {
     "data": {
      "text/plain": [
       "<matplotlib.collections.PathCollection at 0x2b12dceabb0>"
      ]
     },
     "execution_count": 17,
     "metadata": {},
     "output_type": "execute_result"
    },
    {
     "data": {
      "image/png": "[encoded data removed]",
      "text/plain": [
       "<Figure size 432x288 with 1 Axes>"
      ]
     },
     "metadata": {
      "needs_background": "light"
     },
     "output_type": "display_data"
    }
   ],
   "source": [
    "plt.xlabel('area')\n",
    "plt.ylabel('price')\n",
    "plt.scatter(df.area,df.price,color='blue',marker='.')\n",
    "plt.plot(x1,y1,color='red')\n",
    "plt.title('Recta de regresión estimada')\n",
    "plt.scatter(df_estimaciones['Area_a_estimar'],df_estimaciones['price_est'],marker='.',color='green')"
   ]
  },
  {
   "cell_type": "markdown",
   "id": "01a20bb6",
   "metadata": {},
   "source": [
    "Vemos como cualquier estimacion de un nuevo área estará encima de la recta de regresión, como era de esperar."
   ]
  },
  {
   "cell_type": "code",
   "execution_count": 18,
   "id": "2025c899",
   "metadata": {},
   "outputs": [
    {
     "data": {
      "text/plain": [
       "0.9584301138199486"
      ]
     },
     "execution_count": 18,
     "metadata": {},
     "output_type": "execute_result"
    }
   ],
   "source": [
    "reg.score(var_ind,var_dep) #R cuadrado o ajuste del modelo"
   ]
  },
  {
   "cell_type": "code",
   "execution_count": 19,
   "id": "8377f9f8",
   "metadata": {},
   "outputs": [
    {
     "data": {
      "text/plain": [
       "0    16335.616438\n",
       "1   -22979.452055\n",
       "2    -5136.986301\n",
       "3    10547.945205\n",
       "4     1232.876712\n",
       "Name: price, dtype: float64"
      ]
     },
     "execution_count": 19,
     "metadata": {},
     "output_type": "execute_result"
    }
   ],
   "source": [
    "residuos = var_dep - reg.predict(var_ind)\n",
    "residuos"
   ]
  },
  {
   "cell_type": "code",
   "execution_count": 20,
   "id": "7f4fcaf2",
   "metadata": {
    "scrolled": true
   },
   "outputs": [
    {
     "data": {
      "text/plain": [
       "[<matplotlib.lines.Line2D at 0x2b12dd9ea60>]"
      ]
     },
     "execution_count": 20,
     "metadata": {},
     "output_type": "execute_result"
    },
    {
     "data": {
      "image/png": "[encoded data removed]",
      "text/plain": [
       "<Figure size 432x288 with 1 Axes>"
      ]
     },
     "metadata": {
      "needs_background": "light"
     },
     "output_type": "display_data"
    }
   ],
   "source": [
    "plt.scatter(np.arange(0,5),residuos)\n",
    "plt.plot(np.arange(0,5),np.repeat(0,5),color='black',linewidth=0.5,linestyle='--')"
   ]
  },
  {
   "cell_type": "markdown",
   "id": "beb19215",
   "metadata": {},
   "source": [
    "Vemos como los residuos cumplen las propiedades de homocedasticidad e independencial. Igualmente, por experiencia sabemos que los precios de casas son variables normales, al igual que los tamaños de las mismas, con lo que el modelo se toma por válido."
   ]
  }
 ],
 "metadata": {
  "kernelspec": {
   "display_name": "Python 3",
   "language": "python",
   "name": "python3"
  },
  "language_info": {
   "codemirror_mode": {
    "name": "ipython",
    "version": 3
   },
   "file_extension": ".py",
   "mimetype": "text/x-python",
   "name": "python",
   "nbconvert_exporter": "python",
   "pygments_lexer": "ipython3",
   "version": "3.8.8"
  }
 },
 "nbformat": 4,
 "nbformat_minor": 5
}
