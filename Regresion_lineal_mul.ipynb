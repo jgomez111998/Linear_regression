{
 "cells": [
  {
   "cell_type": "markdown",
   "id": "f5164bde",
   "metadata": {},
   "source": [
    "# Regresión lineal multivariante"
   ]
  },
  {
   "cell_type": "code",
   "execution_count": 6,
   "id": "33a1e79e",
   "metadata": {},
   "outputs": [],
   "source": [
    "import pandas as pd\n",
    "import numpy as np\n",
    "from sklearn import linear_model\n",
    "import matplotlib.pyplot as plt"
   ]
  },
  {
   "cell_type": "code",
   "execution_count": 7,
   "id": "7b854ce4",
   "metadata": {},
   "outputs": [
    {
     "data": {
      "text/html": [
       "<div>\n",
       "<style scoped>\n",
       "    .dataframe tbody tr th:only-of-type {\n",
       "        vertical-align: middle;\n",
       "    }\n",
       "\n",
       "    .dataframe tbody tr th {\n",
       "        vertical-align: top;\n",
       "    }\n",
       "\n",
       "    .dataframe thead th {\n",
       "        text-align: right;\n",
       "    }\n",
       "</style>\n",
       "<table border=\"1\" class=\"dataframe\">\n",
       "  <thead>\n",
       "    <tr style=\"text-align: right;\">\n",
       "      <th></th>\n",
       "      <th>area</th>\n",
       "      <th>bedrooms</th>\n",
       "      <th>age</th>\n",
       "      <th>price</th>\n",
       "    </tr>\n",
       "  </thead>\n",
       "  <tbody>\n",
       "    <tr>\n",
       "      <th>0</th>\n",
       "      <td>2600</td>\n",
       "      <td>3.0</td>\n",
       "      <td>20</td>\n",
       "      <td>550000</td>\n",
       "    </tr>\n",
       "    <tr>\n",
       "      <th>1</th>\n",
       "      <td>3000</td>\n",
       "      <td>4.0</td>\n",
       "      <td>15</td>\n",
       "      <td>565000</td>\n",
       "    </tr>\n",
       "    <tr>\n",
       "      <th>2</th>\n",
       "      <td>3200</td>\n",
       "      <td>NaN</td>\n",
       "      <td>18</td>\n",
       "      <td>610000</td>\n",
       "    </tr>\n",
       "    <tr>\n",
       "      <th>3</th>\n",
       "      <td>3600</td>\n",
       "      <td>3.0</td>\n",
       "      <td>30</td>\n",
       "      <td>595000</td>\n",
       "    </tr>\n",
       "    <tr>\n",
       "      <th>4</th>\n",
       "      <td>4000</td>\n",
       "      <td>5.0</td>\n",
       "      <td>8</td>\n",
       "      <td>760000</td>\n",
       "    </tr>\n",
       "    <tr>\n",
       "      <th>5</th>\n",
       "      <td>4100</td>\n",
       "      <td>6.0</td>\n",
       "      <td>8</td>\n",
       "      <td>810000</td>\n",
       "    </tr>\n",
       "  </tbody>\n",
       "</table>\n",
       "</div>"
      ],
      "text/plain": [
       "   area  bedrooms  age   price\n",
       "0  2600       3.0   20  550000\n",
       "1  3000       4.0   15  565000\n",
       "2  3200       NaN   18  610000\n",
       "3  3600       3.0   30  595000\n",
       "4  4000       5.0    8  760000\n",
       "5  4100       6.0    8  810000"
      ]
     },
     "execution_count": 7,
     "metadata": {},
     "output_type": "execute_result"
    }
   ],
   "source": [
    "df= pd.read_csv('price_mul.csv',sep=';')\n",
    "df #tenemos el precio en función del numero de habitaciones\n",
    "#y de los años que tiene la casa"
   ]
  },
  {
   "cell_type": "code",
   "execution_count": 8,
   "id": "e569c9af",
   "metadata": {},
   "outputs": [
    {
     "data": {
      "text/html": [
       "<div>\n",
       "<style scoped>\n",
       "    .dataframe tbody tr th:only-of-type {\n",
       "        vertical-align: middle;\n",
       "    }\n",
       "\n",
       "    .dataframe tbody tr th {\n",
       "        vertical-align: top;\n",
       "    }\n",
       "\n",
       "    .dataframe thead th {\n",
       "        text-align: right;\n",
       "    }\n",
       "</style>\n",
       "<table border=\"1\" class=\"dataframe\">\n",
       "  <thead>\n",
       "    <tr style=\"text-align: right;\">\n",
       "      <th></th>\n",
       "      <th>area</th>\n",
       "      <th>bedrooms</th>\n",
       "      <th>age</th>\n",
       "      <th>price</th>\n",
       "    </tr>\n",
       "  </thead>\n",
       "  <tbody>\n",
       "    <tr>\n",
       "      <th>0</th>\n",
       "      <td>2600</td>\n",
       "      <td>3.0</td>\n",
       "      <td>20</td>\n",
       "      <td>550000</td>\n",
       "    </tr>\n",
       "    <tr>\n",
       "      <th>1</th>\n",
       "      <td>3000</td>\n",
       "      <td>4.0</td>\n",
       "      <td>15</td>\n",
       "      <td>565000</td>\n",
       "    </tr>\n",
       "    <tr>\n",
       "      <th>2</th>\n",
       "      <td>3200</td>\n",
       "      <td>4.0</td>\n",
       "      <td>18</td>\n",
       "      <td>610000</td>\n",
       "    </tr>\n",
       "    <tr>\n",
       "      <th>3</th>\n",
       "      <td>3600</td>\n",
       "      <td>3.0</td>\n",
       "      <td>30</td>\n",
       "      <td>595000</td>\n",
       "    </tr>\n",
       "    <tr>\n",
       "      <th>4</th>\n",
       "      <td>4000</td>\n",
       "      <td>5.0</td>\n",
       "      <td>8</td>\n",
       "      <td>760000</td>\n",
       "    </tr>\n",
       "    <tr>\n",
       "      <th>5</th>\n",
       "      <td>4100</td>\n",
       "      <td>6.0</td>\n",
       "      <td>8</td>\n",
       "      <td>810000</td>\n",
       "    </tr>\n",
       "  </tbody>\n",
       "</table>\n",
       "</div>"
      ],
      "text/plain": [
       "   area  bedrooms  age   price\n",
       "0  2600       3.0   20  550000\n",
       "1  3000       4.0   15  565000\n",
       "2  3200       4.0   18  610000\n",
       "3  3600       3.0   30  595000\n",
       "4  4000       5.0    8  760000\n",
       "5  4100       6.0    8  810000"
      ]
     },
     "execution_count": 8,
     "metadata": {},
     "output_type": "execute_result"
    }
   ],
   "source": [
    "df.bedrooms=df.bedrooms.fillna(df.bedrooms.median())\n",
    "df #rellenamos el NaN con la mediana para poder realizarlo"
   ]
  },
  {
   "cell_type": "code",
   "execution_count": 9,
   "id": "6faf8fdd",
   "metadata": {},
   "outputs": [
    {
     "data": {
      "text/plain": [
       "LinearRegression()"
      ]
     },
     "execution_count": 9,
     "metadata": {},
     "output_type": "execute_result"
    }
   ],
   "source": [
    "reg = linear_model.LinearRegression()\n",
    "reg.fit(df.drop('price',axis='columns'),df.price)"
   ]
  },
  {
   "cell_type": "code",
   "execution_count": 10,
   "id": "2cdbd0bb",
   "metadata": {},
   "outputs": [
    {
     "data": {
      "text/plain": [
       "(array([  112.06244194, 23388.88007794, -3231.71790863]), 221323.0018654043)"
      ]
     },
     "execution_count": 10,
     "metadata": {},
     "output_type": "execute_result"
    }
   ],
   "source": [
    "reg.coef_, reg.intercept_ "
   ]
  },
  {
   "cell_type": "markdown",
   "id": "aca7994f",
   "metadata": {},
   "source": [
    "La ecuación lineal multivariante estimada es:\n",
    "\n",
    "$y =221323.0018654043 + 112.06244194 \\times area + 23388.88007794 \\times bedrooms -3231.71790863 \\times year$"
   ]
  },
  {
   "cell_type": "markdown",
   "id": "26c2c59e",
   "metadata": {},
   "source": [
    "Si queremos predecir el precio de una casa de 2500 pies cuadrados con 4 habitaciones y 5 años obtendríamos"
   ]
  },
  {
   "cell_type": "code",
   "execution_count": 11,
   "id": "df3aa403",
   "metadata": {},
   "outputs": [
    {
     "data": {
      "text/plain": [
       "array([578876.03748933])"
      ]
     },
     "execution_count": 11,
     "metadata": {},
     "output_type": "execute_result"
    }
   ],
   "source": [
    "reg.predict([[2500,4,5]])"
   ]
  },
  {
   "cell_type": "markdown",
   "id": "4e853206",
   "metadata": {},
   "source": [
    "#### ¿Se cumplen los supuestos del modelo?\n",
    "- Linealidad: Que la relación entre las variables sea lineal.\n",
    "- Independencia: Que los errores en la medición de las variables explicativas sean\n",
    " independientes entre sí.\n",
    "- Homocedasticidad: Que los errores tengan varianza constante.\n",
    "- Normalidad: Que las variables sigan la Ley Normal.\n",
    "- No colinealidad: Que las variables independientes no estén correlacionadas entre ellas (caso multivariante)"
   ]
  },
  {
   "cell_type": "code",
   "execution_count": 13,
   "id": "6c1d580b",
   "metadata": {},
   "outputs": [
    {
     "data": {
      "text/plain": [
       "area        0.901476\n",
       "bedrooms    0.919803\n",
       "age        -0.734167\n",
       "price       1.000000\n",
       "Name: price, dtype: float64"
      ]
     },
     "execution_count": 13,
     "metadata": {},
     "output_type": "execute_result"
    }
   ],
   "source": [
    "df.corr()['price']"
   ]
  },
  {
   "cell_type": "markdown",
   "id": "2e7d4ceb",
   "metadata": {},
   "source": [
    "Vemos como esto tiene sentido, ya que a mas area y mas habitaciones mas costará la casa, pero a mas años de vida de la casa, esta costará menos."
   ]
  },
  {
   "cell_type": "code",
   "execution_count": 26,
   "id": "1b12c5a0",
   "metadata": {},
   "outputs": [
    {
     "data": {
      "text/plain": [
       "Text(0, 0.5, 'price')"
      ]
     },
     "execution_count": 26,
     "metadata": {},
     "output_type": "execute_result"
    },
    {
     "data": {
      "image/png": "[encoded data removed]",
      "text/plain": [
       "<Figure size 432x288 with 1 Axes>"
      ]
     },
     "metadata": {
      "needs_background": "light"
     },
     "output_type": "display_data"
    }
   ],
   "source": [
    "plt.scatter(df.age,df.price)\n",
    "plt.xlabel('age')\n",
    "plt.ylabel('price')"
   ]
  },
  {
   "cell_type": "code",
   "execution_count": 27,
   "id": "e09ba1e7",
   "metadata": {},
   "outputs": [
    {
     "data": {
      "text/plain": [
       "Text(0, 0.5, 'price')"
      ]
     },
     "execution_count": 27,
     "metadata": {},
     "output_type": "execute_result"
    },
    {
     "data": {
      "image/png": "[encoded data removed]",
      "text/plain": [
       "<Figure size 432x288 with 1 Axes>"
      ]
     },
     "metadata": {
      "needs_background": "light"
     },
     "output_type": "display_data"
    }
   ],
   "source": [
    "plt.scatter(df.bedrooms,df.price)\n",
    "plt.xlabel('bedrooms')\n",
    "plt.ylabel('price')"
   ]
  },
  {
   "cell_type": "code",
   "execution_count": 28,
   "id": "af591839",
   "metadata": {},
   "outputs": [
    {
     "data": {
      "text/plain": [
       "Text(0, 0.5, 'price')"
      ]
     },
     "execution_count": 28,
     "metadata": {},
     "output_type": "execute_result"
    },
    {
     "data": {
      "image/png": "[encoded data removed]",
      "text/plain": [
       "<Figure size 432x288 with 1 Axes>"
      ]
     },
     "metadata": {
      "needs_background": "light"
     },
     "output_type": "display_data"
    }
   ],
   "source": [
    "plt.scatter(df.area,df.price)\n",
    "plt.xlabel('area')\n",
    "plt.ylabel('price')"
   ]
  },
  {
   "cell_type": "markdown",
   "id": "c7376d2a",
   "metadata": {},
   "source": [
    "Hay cierta relación lineal en cuanto a las variables explicativas y la variable explicada"
   ]
  },
  {
   "cell_type": "code",
   "execution_count": 30,
   "id": "42d0d66b",
   "metadata": {},
   "outputs": [
    {
     "data": {
      "text/plain": [
       "0.9550196399325819"
      ]
     },
     "execution_count": 30,
     "metadata": {},
     "output_type": "execute_result"
    }
   ],
   "source": [
    "reg.score(df.drop('price',axis='columns'),df.price)"
   ]
  },
  {
   "cell_type": "markdown",
   "id": "273049bd",
   "metadata": {},
   "source": [
    "El R cuadrado indica un muy buen ajuste por medio de las 3 variables que explican el precio de las viviendas. Además podemos considerar las 3 variables normales, ya que el numero de habitaciones, la edad de los pisos asi como el area que abarca la vivienda se distribuyen de forma normal"
   ]
  },
  {
   "cell_type": "code",
   "execution_count": 37,
   "id": "9dc263e1",
   "metadata": {},
   "outputs": [],
   "source": [
    "import statsmodels.api as sm\n",
    "from sklearn import preprocessing\n",
    "\n"
   ]
  },
  {
   "cell_type": "code",
   "execution_count": 43,
   "id": "6810620b",
   "metadata": {
    "scrolled": false
   },
   "outputs": [
    {
     "data": {
      "image/png": "[encoded data removed]",
      "text/plain": [
       "<Figure size 432x288 with 1 Axes>"
      ]
     },
     "metadata": {
      "needs_background": "light"
     },
     "output_type": "display_data"
    }
   ],
   "source": [
    "normalized_bed = (df.bedrooms-df.bedrooms.mean())/df.bedrooms.std()\n",
    "fig = sm.qqplot(normalized_bed, line='45')\n",
    "plt.show()"
   ]
  },
  {
   "cell_type": "markdown",
   "id": "1204158f",
   "metadata": {},
   "source": [
    "La variable bedrooms es normal"
   ]
  },
  {
   "cell_type": "code",
   "execution_count": 44,
   "id": "f3e66321",
   "metadata": {},
   "outputs": [
    {
     "data": {
      "image/png": "[encoded data removed]",
      "text/plain": [
       "<Figure size 432x288 with 1 Axes>"
      ]
     },
     "metadata": {
      "needs_background": "light"
     },
     "output_type": "display_data"
    }
   ],
   "source": [
    "normalized_age = (df.age-df.age.mean())/df.age.std()\n",
    "fig = sm.qqplot(normalized_age, line='45')\n",
    "plt.show()"
   ]
  },
  {
   "cell_type": "markdown",
   "id": "0dba0496",
   "metadata": {},
   "source": [
    "La variable age también es normal"
   ]
  },
  {
   "cell_type": "code",
   "execution_count": 45,
   "id": "3b17b7b7",
   "metadata": {},
   "outputs": [
    {
     "data": {
      "image/png": "[encoded data removed]",
      "text/plain": [
       "<Figure size 432x288 with 1 Axes>"
      ]
     },
     "metadata": {
      "needs_background": "light"
     },
     "output_type": "display_data"
    }
   ],
   "source": [
    "normalized_area = (df.area-df.area.mean())/df.area.std()\n",
    "fig = sm.qqplot(normalized_area, line='45')\n",
    "plt.show()"
   ]
  },
  {
   "cell_type": "markdown",
   "id": "f20113d1",
   "metadata": {},
   "source": [
    "La variable area es normal"
   ]
  },
  {
   "cell_type": "code",
   "execution_count": 47,
   "id": "af3c016e",
   "metadata": {},
   "outputs": [
    {
     "data": {
      "text/plain": [
       "0    31782.367024\n",
       "1   -37590.079374\n",
       "2    -5307.414037\n",
       "3    -2962.895832\n",
       "4     -663.426755\n",
       "5    14741.448973\n",
       "Name: price, dtype: float64"
      ]
     },
     "execution_count": 47,
     "metadata": {},
     "output_type": "execute_result"
    }
   ],
   "source": [
    "residuos = df.price - reg.predict(df.drop('price',axis='columns'))\n",
    "residuos"
   ]
  },
  {
   "cell_type": "code",
   "execution_count": 50,
   "id": "7638851c",
   "metadata": {},
   "outputs": [
    {
     "data": {
      "text/plain": [
       "[<matplotlib.lines.Line2D at 0x1c7745a1f10>]"
      ]
     },
     "execution_count": 50,
     "metadata": {},
     "output_type": "execute_result"
    },
    {
     "data": {
      "image/png": "[encoded data removed]",
      "text/plain": [
       "<Figure size 432x288 with 1 Axes>"
      ]
     },
     "metadata": {
      "needs_background": "light"
     },
     "output_type": "display_data"
    }
   ],
   "source": [
    "plt.scatter(np.arange(0,6),residuos)\n",
    "plt.plot(np.arange(0,6),np.repeat(0,6),color='black',linewidth=0.5,linestyle='--')"
   ]
  },
  {
   "cell_type": "markdown",
   "id": "2269b320",
   "metadata": {},
   "source": [
    "Los residuos parecen homocedásticos (misma varianza), e independientes (no hay patrones de ningun tipo). Con lo que el modelo es válido"
   ]
  }
 ],
 "metadata": {
  "kernelspec": {
   "display_name": "Python 3",
   "language": "python",
   "name": "python3"
  },
  "language_info": {
   "codemirror_mode": {
    "name": "ipython",
    "version": 3
   },
   "file_extension": ".py",
   "mimetype": "text/x-python",
   "name": "python",
   "nbconvert_exporter": "python",
   "pygments_lexer": "ipython3",
   "version": "3.8.8"
  }
 },
 "nbformat": 4,
 "nbformat_minor": 5
}
